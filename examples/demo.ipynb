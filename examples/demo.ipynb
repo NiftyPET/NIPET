{
 "cells": [
  {
   "cell_type": "markdown",
   "metadata": {},
   "source": [
    "# NiftyPET Example\n",
    "\n",
    "This is a full demo of NiftyPET's default [OSEM](#OSEM \"ordered subsets expectation maximisation\") ($n_\\text{max}=14$ subsets, span 11, Siemens Biograph mMR resolution), as well as a custom, explicit [MLEM](#MLEM \"maximum likelihood expectation maximisation\") incorporating [RM](#RM \"resolution modelling\").\n",
    "\n",
    "\n",
    "Mathematically:\n",
    "\n",
    "$$\n",
    "{\\bf\\theta}^{(k+1)} = {{\\bf\\theta}^{(k)} \\over \\sum_n{{\\bf H}^T{\\bf X}_n^T{\\bf A}^T{\\bf N}^T{\\bf 1}}}\n",
    "    \\circ\n",
    "    \\sum_n{ {\\bf H}^T{\\bf X}_n^T{\\bf A}^T{\\bf N}^T\n",
    "        { {\\bf m} \\over {\\bf NA}{\\bf X}_n{\\bf H}{\\bf\\theta}^{(k)} + {\\bf r} + {\\bf s} }\n",
    "    },\n",
    "$$\n",
    "\n",
    "- $k$ is iteration number\n",
    "- $H$ applies a Gaussian PSF\n",
    "- $X_n$ is the system matrix for subset $n$ (MLEM has just one subset)\n",
    "- $m, r, s$ are measured, randoms, and scatter\n",
    "\n",
    "----\n",
    "\n",
    "- Author: Casper O. da Costa-Luis [casper.dcl@{physics.org|ieee.org|kcl.ac.uk}](mailto:casper.dcl@physics.org)\n",
    "- Date: 2019-20\n",
    "\n",
    "----\n",
    "\n",
    "# Imports\n",
    "\n",
    "In addition to NiftyPET, this is recommended:\n",
    "```bash\n",
    "pip install brainweb[plot]  # image display\n",
    "pip install spm12  # MATLAB-based registration\n",
    "```"
   ]
  },
  {
   "cell_type": "code",
   "execution_count": null,
   "metadata": {},
   "outputs": [],
   "source": [
    "# imports\n",
    "from __future__ import print_function, division\n",
    "%matplotlib notebook\n",
    "from collections import OrderedDict\n",
    "from glob import glob\n",
    "from os import path\n",
    "import functools\n",
    "import logging\n",
    "import os\n",
    "\n",
    "if os.getenv(\"OMP_NUM_THREADS\", None) != \"1\":\n",
    "    raise EnvironmentError(\"should run `export OMP_NUM_THREADS=1` before notebook launch\")\n",
    "\n",
    "from brainweb import volshow\n",
    "from niftypet import nipet\n",
    "from niftypet.nimpa import getnii\n",
    "from scipy.ndimage.filters import gaussian_filter\n",
    "from tqdm.auto import trange\n",
    "import matplotlib.pyplot as plt\n",
    "import numpy as np\n",
    "import pydicom\n",
    "\n",
    "logging.basicConfig(level=logging.INFO, format=nipet.LOG_FORMAT)\n",
    "print(nipet.gpuinfo())\n",
    "# get all the scanner parameters\n",
    "mMRpars = nipet.get_mmrparams()\n",
    "# conversion for Gaussian sigma/[voxel] to FWHM/[mm]\n",
    "SIGMA2FWHMmm = (8 * np.log(2))**0.5 * np.array([mMRpars['Cnt']['SO_VX' + i] for i in 'ZYX']) * 10\n",
    "\n",
    "def div_nzer(x, y):\n",
    "    return np.divide(x, y, out=np.zeros_like(y), where=y!=0)\n",
    "\n",
    "def trimVol(x):\n",
    "    return x[:, 100:-100, 100:-100]\n",
    "\n",
    "def norMax(x, scale=1):\n",
    "    x = trimVol(x).transpose(2, 0, 1)[..., None]\n",
    "    return x * (scale / x.max())\n",
    "\n",
    "def register_spm(ref_file, mov_file, opth):\n",
    "    \"\"\"\n",
    "    ref_file  : e.g. recon['fpet']\n",
    "    mov_file  : e.g. datain['T1nii']\n",
    "    \"\"\"\n",
    "    from spm12.regseg import coreg_spm, resample_spm\n",
    "    reg = coreg_spm(ref_file, mov_file, outpath=opth, save_arr=False, save_txt=False)\n",
    "    return getnii(resample_spm(ref_file, mov_file, reg['affine'], outpath=opth,\n",
    "                               del_ref_uncmpr=True, del_flo_uncmpr=True, del_out_uncmpr=True))\n",
    "\n",
    "def register_dipy(ref_file, mov_file, ROI=None):\n",
    "    \"\"\"\n",
    "    ref_file  : e.g. recon['fpet']\n",
    "    mov_file  : e.g. datain['T1nii']\n",
    "    \"\"\"\n",
    "    from brainweb import register\n",
    "    return register(getnii(mov_file), getnii(ref_file), ROI=ROI or ((0, None), (100, -100), (100, -100)))"
   ]
  },
  {
   "cell_type": "markdown",
   "metadata": {},
   "source": [
    "# Load & Process Raw Data"
   ]
  },
  {
   "cell_type": "code",
   "execution_count": null,
   "metadata": {
    "tags": [
     "parameters"
    ]
   },
   "outputs": [],
   "source": [
    "folderin = \"amyloidPET_FBP_TP0\"\n",
    "folderout = \".\"  # realtive to `{folderin}/niftyout`\n",
    "itr = 7  # number of iterations (will be multiplied by 14 for MLEM)\n",
    "fwhm = 2.5  # mm (for resolution modelling)\n",
    "totCnt = None  # bootstrap sample (e.g. `300e6`) counts"
   ]
  },
  {
   "cell_type": "code",
   "execution_count": null,
   "metadata": {},
   "outputs": [],
   "source": [
    "# datain\n",
    "folderin = path.expanduser(folderin)\n",
    "\n",
    "# automatically categorise the input data\n",
    "#logging.getLogger().setLevel(logging.INFO)\n",
    "datain = nipet.classify_input(folderin, mMRpars, recurse=-1)\n",
    "\n",
    "# output path\n",
    "opth = path.join(datain['corepath'], \"niftyout\")\n",
    "# switch on verbose mode\n",
    "#logging.getLogger().setLevel(logging.DEBUG)\n",
    "\n",
    "datain"
   ]
  },
  {
   "cell_type": "code",
   "execution_count": null,
   "metadata": {},
   "outputs": [],
   "source": [
    "# hardware mu-map (bed, head/neck coils)\n",
    "mu_h = nipet.hdw_mumap(datain, [1,2,4], mMRpars, outpath=opth, use_stored=True)"
   ]
  },
  {
   "cell_type": "code",
   "execution_count": null,
   "metadata": {},
   "outputs": [],
   "source": [
    "# MR-based human mu-map\n",
    "\n",
    "# UTE-based object mu-map aligned (need UTE sequence or T1 for pseudo-CT)\n",
    "#mu_o = nipet.align_mumap(\n",
    "#    datain,\n",
    "#    scanner_params=mMRpars,\n",
    "#    outpath=opth,\n",
    "#    t0=0, t1=0, # when both times are 0, will use full data\n",
    "#    itr=2,      # number of iterations used for recon to which registering MR/UTE\n",
    "#    petopt='ac',# what PET image to use (ac-just attenuation corrected)\n",
    "#    musrc='ute',# source of mu-map (ute/pct)\n",
    "#    ute_name='UTE2', # which UTE to use (UTE1/2 shorter/faster)\n",
    "#    verbose=True,\n",
    "#)\n",
    "\n",
    "#> the same as above without any faff though (no alignment)\n",
    "mu_o = nipet.obj_mumap(datain, mMRpars, outpath=opth, store=True)"
   ]
  },
  {
   "cell_type": "code",
   "execution_count": null,
   "metadata": {},
   "outputs": [],
   "source": [
    "# create histogram\n",
    "mMRpars['Cnt']['BTP'] = 0\n",
    "m = nipet.mmrhist(datain, mMRpars, outpath=opth, store=True, use_stored=True)\n",
    "if totCnt:\n",
    "    mMRpars['Cnt']['BTP'] = 2  # enable parametric bootstrap\n",
    "    mMRpars['Cnt']['BTPRT'] = totCnt / m['psino'].sum()  # ratio count level relative to the original\n",
    "    m = nipet.mmrhist(datain, mMRpars, outpath=path.join(opth, 'BTP', '%.3g' % totCnt), store=True)"
   ]
  },
  {
   "cell_type": "markdown",
   "metadata": {
    "tags": [
     "plots"
    ]
   },
   "source": [
    "## Visualisations"
   ]
  },
  {
   "cell_type": "code",
   "execution_count": null,
   "metadata": {
    "tags": [
     "plots"
    ]
   },
   "outputs": [],
   "source": [
    "try:  # needs HW mu-maps\n",
    "    volshow(mu_o['im'] + mu_h['im'], cmaps=['bone'], titles=[r\"$\\mu$-map\"])\n",
    "except:\n",
    "    volshow(mu_o['im'], cmaps=['bone'])"
   ]
  },
  {
   "cell_type": "code",
   "execution_count": null,
   "metadata": {
    "tags": [
     "plots"
    ]
   },
   "outputs": [],
   "source": [
    "# sinogram index (<127 for direct sinograms, >=127 for oblique sinograms)\n",
    "volshow([m['psino'], m['dsino']],\n",
    "        titles=[\"Prompt sinogram (%.3gM)\" % (m['psino'].sum() / 1e6),\n",
    "               \"Delayed sinogram (%.3gM)\" % (m['dsino'].sum() / 1e6)],\n",
    "        cmaps=['inferno'] * 2, xlabels=[\"\", \"bins\"], ylabels=[\"angles\"] * 2, ncols=2, colorbars=[1]*2,\n",
    "       figsize=(9.5, 3.5), tight_layout=5);"
   ]
  },
  {
   "cell_type": "markdown",
   "metadata": {},
   "source": [
    "# Reconstruction"
   ]
  },
  {
   "cell_type": "markdown",
   "metadata": {
    "tags": [
     "osem"
    ]
   },
   "source": [
    "## OSEM"
   ]
  },
  {
   "cell_type": "code",
   "execution_count": null,
   "metadata": {
    "tags": [
     "osem"
    ]
   },
   "outputs": [],
   "source": [
    "# built-in default: 14 subsets\n",
    "fcomment = f\"_fwhm-{fwhm}_recon\"\n",
    "outpath = path.join(opth, folderout)\n",
    "recon = glob(\n",
    "    f\"{outpath}/PET/single-frame/a_t-*-*sec_itr-{itr}{fcomment}.nii.gz\"\n",
    ")\n",
    "if recon:\n",
    "    recon = {'fpet': recon[0], 'im': getnii(recon[0])}\n",
    "else:\n",
    "    recon = nipet.mmrchain(\n",
    "        datain, mMRpars,\n",
    "        #frames=['timings', [3000, 3600]],\n",
    "        itr=itr,\n",
    "        #store_itr=range(itr),\n",
    "        histo=m,\n",
    "        mu_h=mu_h,\n",
    "        mu_o=mu_o,\n",
    "        fwhm_rm=fwhm,\n",
    "        #recmod=1,  # no scatter & rand\n",
    "        outpath=outpath,\n",
    "        fcomment=fcomment,\n",
    "        store_img=True)\n",
    "\n",
    "volshow([trimVol(recon['im'])], cmaps=['magma']);"
   ]
  },
  {
   "cell_type": "markdown",
   "metadata": {
    "tags": [
     "osem"
    ]
   },
   "source": [
    "### Registration"
   ]
  },
  {
   "cell_type": "code",
   "execution_count": null,
   "metadata": {
    "tags": [
     "osem"
    ]
   },
   "outputs": [],
   "source": [
    "# convert DCM to NII if required\n",
    "if 'T1nii' not in datain:\n",
    "    !{mMRpars['Cnt']['DCM2NIIX']} -z y -f 'T1' {datain['T1DCM']}\n",
    "    extra = nipet.classify_input(datain['T1DCM'], mMRpars)\n",
    "    extra.pop('corepath')\n",
    "    datain.update(extra)\n",
    "\n",
    "#filepaths = sorted(glob(path.join(datain['T1DCM'], '*.IMA')))\n",
    "#arr = np.asanyarray([pydicom.dcmread(i).pixel_array for i in filepaths]).transpose(1, 2, 0)"
   ]
  },
  {
   "cell_type": "code",
   "execution_count": null,
   "metadata": {
    "tags": [
     "spm",
     "osem"
    ]
   },
   "outputs": [],
   "source": [
    "# SPM12\n",
    "regout = f\"{opth}/affine_ref-a_t-*sec_itr-21_fwhm-4.5_recon.nii.gz\"\n",
    "regim = getnii(regout) if path.exists(regout) else register_spm(recon['fpet'], datain['T1nii'], opth)\n",
    "\n",
    "# Simple Alternative: DIPY CoM\n",
    "#regim = register_dipy(recon['fpet'], datain['T1nii'])"
   ]
  },
  {
   "cell_type": "markdown",
   "metadata": {
    "tags": [
     "plots",
     "osem"
    ]
   },
   "source": [
    "### Figures"
   ]
  },
  {
   "cell_type": "code",
   "execution_count": null,
   "metadata": {
    "tags": [
     "plots",
     "osem"
    ]
   },
   "outputs": [],
   "source": [
    "volshow({\n",
    "    \"PET\": trimVol(recon['im']), #.transpose(2, 0, 1),\n",
    "    \"Smoothed\": gaussian_filter(trimVol(recon['im']), 4.5 / SIGMA2FWHMmm), #.transpose(2, 0, 1),\n",
    "    \"$\\\\mu$ Map\": trimVol(mu_o['im']), #.transpose(2, 0, 1),\n",
    "    \"T1\": trimVol(regim), #.transpose(2, 0, 1)\n",
    "},\n",
    "vmaxs=[np.percentile(recon['im'], 99.95)]*2 + [None]*2,\n",
    "cmaps=['magma', 'magma', 'Greys', 'Greys_r'], nrows=1, figsize=(9.5, 3.5));"
   ]
  },
  {
   "cell_type": "code",
   "execution_count": null,
   "metadata": {
    "tags": [
     "plots",
     "osem"
    ]
   },
   "outputs": [],
   "source": [
    "# rgb => PET, mu_o, T1\n",
    "volshow([np.concatenate([norMax(recon['im']), norMax(mu_o['im'], 0.15), norMax(regim, 0.75)], axis=-1)]);"
   ]
  },
  {
   "cell_type": "markdown",
   "metadata": {
    "tags": [
     "mlem"
    ]
   },
   "source": [
    "## MLEM"
   ]
  },
  {
   "cell_type": "code",
   "execution_count": null,
   "metadata": {
    "tags": [
     "mlem"
    ]
   },
   "outputs": [],
   "source": [
    "## Attenuation, Normalisation & Sensitivity\n",
    "\n",
    "A = nipet.frwd_prj(mu_h['im'] + mu_o['im'], mMRpars, attenuation=True)\n",
    "N = nipet.mmrnorm.get_norm_sino(datain, mMRpars, m)\n",
    "AN = A * N\n",
    "sim = nipet.back_prj(AN, mMRpars)\n",
    "msk = nipet.img.mmrimg.get_cylinder(mMRpars['Cnt'], rad=29., xo=0., yo=0., unival=1, gpu_dim=False) <= 0.9\n",
    "\n",
    "## Randoms\n",
    "\n",
    "r = nipet.randoms(m, mMRpars)[0]\n",
    "print(\"Randoms: %.3g%%\" % (r.sum() / m['psino'].sum() * 100))\n",
    "\n",
    "## Scatter\n",
    "\n",
    "# One OSEM iteration estimate (implicitly using voxel-driven scatter model)\n",
    "eim = nipet.mmrchain(datain, mMRpars, mu_h=mu_h, mu_o=mu_o, histo=m, itr=1, outpath=opth)['im']\n",
    "# Recalculate scatter\n",
    "s = nipet.vsm(datain, (mu_h['im'], mu_o['im']), eim, m, r, mMRpars)\n",
    "print(\"Scatter: %.3g%%\" % (s.sum() / m['psino'].sum() * 100))"
   ]
  },
  {
   "cell_type": "code",
   "execution_count": null,
   "metadata": {
    "tags": [
     "mlem",
     "plots"
    ]
   },
   "outputs": [],
   "source": [
    "volshow(OrderedDict([(\"Prompts\", m['psino']), (\"Delayed\", m['dsino']), (\"Attenuation\", A),\n",
    "                     (\"Scatter\", s), (\"Randoms\", r), (\"Normalisation\", N)]),\n",
    "        cmaps=['inferno']*6, colorbars=[1]*6, ncols=3, figsize=(9.5, 6));"
   ]
  },
  {
   "cell_type": "code",
   "execution_count": null,
   "metadata": {
    "tags": [
     "mlem"
    ]
   },
   "outputs": [],
   "source": [
    "## MLEM with RM\n",
    "\n",
    "psf = functools.partial(gaussian_filter, sigma=fwhm / SIGMA2FWHMmm)\n",
    "sim_inv = div_nzer(1, psf(sim))\n",
    "sim_inv[msk] = 0\n",
    "rs_AN = div_nzer(r + s, AN)\n",
    "recon_mlem = [np.ones_like(sim)]\n",
    "for k in trange(itr * 14, desc=\"MLEM\"):\n",
    "    fprj = nipet.frwd_prj(psf(recon_mlem[-1]), mMRpars) + rs_AN\n",
    "    recon_mlem.append(recon_mlem[-1] * sim_inv * psf(nipet.back_prj(div_nzer(m['psino'], fprj), mMRpars)))"
   ]
  },
  {
   "cell_type": "code",
   "execution_count": null,
   "metadata": {
    "tags": [
     "mlem",
     "plots"
    ]
   },
   "outputs": [],
   "source": [
    "# central slice across iterations\n",
    "volshow(\n",
    "    np.asanyarray(recon_mlem[14::14])[:, :, 90:-100, 110:-110],\n",
    "    cmaps=['magma'] * len(recon_mlem[14::14]), ncols=4, figsize=(9.5, 7), frameon=False);"
   ]
  }
 ],
 "metadata": {
  "kernelspec": {
   "display_name": "Python [conda env:niftypet]",
   "language": "python",
   "name": "conda-env-niftypet-py"
  },
  "language_info": {
   "codemirror_mode": {
    "name": "ipython"
   },
   "file_extension": ".py",
   "mimetype": "text/x-python",
   "name": "python",
   "nbconvert_exporter": "python"
  }
 },
 "nbformat": 4,
 "nbformat_minor": 2
}
